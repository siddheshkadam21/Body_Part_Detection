{
 "cells": [
  {
   "cell_type": "code",
   "execution_count": 9,
   "metadata": {},
   "outputs": [],
   "source": [
    "import numpy as np\n",
    "import cv2\n",
    "from matplotlib import pyplot as plt"
   ]
  },
  {
   "cell_type": "code",
   "execution_count": 10,
   "metadata": {},
   "outputs": [],
   "source": [
    "img = cv2.imread(\"1 LrYl_rhb-u8FlCZZwxMPYA.png\",1)\n",
    "#1 LrYl_rhb-u8FlCZZwxMPYA.png\n"
   ]
  },
  {
   "cell_type": "code",
   "execution_count": 11,
   "metadata": {},
   "outputs": [],
   "source": [
    "gray = cv2.cvtColor(img, cv2.COLOR_BGR2GRAY )"
   ]
  },
  {
   "cell_type": "code",
   "execution_count": 12,
   "metadata": {},
   "outputs": [],
   "source": [
    "path_fullbody=\"haarcascade_fullbody.xml\"\n",
    "\n",
    "path_faces=\"haarcascade_frontalface_default.xml\"\n",
    "\n",
    "#path_upper=\"upperbody.xml\"\n",
    "\n",
    "#path_nose=\"C:/Users/SIDDHESH/Desktop/suPFD/Data_Science/Body_part_detection/nosehaar.xml\"\n",
    "\n",
    "path_low=\"haarcascade_lowerbody.xml\""
   ]
  },
  {
   "cell_type": "code",
   "execution_count": 13,
   "metadata": {},
   "outputs": [],
   "source": [
    "fullbody_cascade= cv2.CascadeClassifier(cv2.data.haarcascades +path_fullbody)\n",
    "\n",
    "face_cascade = cv2.CascadeClassifier(cv2.data.haarcascades +path_faces)\n",
    "\n",
    "#upper_cascade= cv2.CascadeClassifier(cv2.data.haarcascades +path_upper)\n",
    "\n",
    "#nose_cascade= cv2.CascadeClassifier(cv2.data.haarcascades +path_nose)\n",
    "\n",
    "low_cascade = cv2.CascadeClassifier(cv2.data.haarcascades +path_low)"
   ]
  },
  {
   "cell_type": "code",
   "execution_count": 14,
   "metadata": {},
   "outputs": [],
   "source": [
    "fullbody=fullbody_cascade.detectMultiScale(gray,scaleFactor=1.1,minNeighbors=1,minSize=(30,30))\n",
    "\n",
    "faces = face_cascade.detectMultiScale(gray,scaleFactor=1.5,minNeighbors=5,minSize=(30,30))\n",
    "\n",
    "#upper=upper_cascade.detectMultiScale(gray,scaleFactor=1.5,minNeighbors=1, minSize=(25,15))\n",
    "\n",
    "#nose=nose_cascade.detectMultiScale(gray,scaleFactor=1.1,minNeighbors=1, minSize=(24,24))\n",
    "\n",
    "low = low_cascade.detectMultiScale(gray,scaleFactor=1.1,minNeighbors=1,minSize=(30,30))"
   ]
  },
  {
   "cell_type": "code",
   "execution_count": 15,
   "metadata": {},
   "outputs": [],
   "source": [
    "for(x,y,w,h)in fullbody:\n",
    "    cv2.rectangle(img,(x,y),(x+w,y+h),(0,225,0),2)\n",
    "    \n",
    "for (x,y,w,h) in faces:\n",
    "    cv2.rectangle(img, (x,y), (x+w, y+h), (225,0,0),2)\n",
    "    \n",
    "#for (x,y,w,h)in upper:\n",
    "#    cv2.rectangle(img,(x,y),(x+w,y+h),(12,150,100),2)\n",
    "    \n",
    "#for (x,y,w,h)in nose:\n",
    "#    cv2.rectangle(img,(x,y),(x+w,y+h),(12,150,100),2)\n",
    "    \n",
    "for (x,y,w,h) in low:\n",
    "    cv2.rectangle(img, (x,y), (x+w, y+h), (12,150,100),2)\n",
    "   "
   ]
  },
  {
   "cell_type": "code",
   "execution_count": 16,
   "metadata": {},
   "outputs": [],
   "source": [
    "#cv2.namedWindow('image', cv2.WINDOW_NORMAL)\n",
    "cv2.imshow(\"image\",img)\n",
    "cv2.waitKey() # If you don'tput this line,thenthe image windowis just a flash. If you put any number other than 0, the same happens.\n",
    "cv2.destroyAllWindows()"
   ]
  },
  {
   "cell_type": "code",
   "execution_count": null,
   "metadata": {},
   "outputs": [],
   "source": []
  },
  {
   "cell_type": "code",
   "execution_count": null,
   "metadata": {},
   "outputs": [],
   "source": []
  },
  {
   "cell_type": "code",
   "execution_count": null,
   "metadata": {},
   "outputs": [],
   "source": []
  }
 ],
 "metadata": {
  "kernelspec": {
   "display_name": "Python 3",
   "language": "python",
   "name": "python3"
  },
  "language_info": {
   "codemirror_mode": {
    "name": "ipython",
    "version": 3
   },
   "file_extension": ".py",
   "mimetype": "text/x-python",
   "name": "python",
   "nbconvert_exporter": "python",
   "pygments_lexer": "ipython3",
   "version": "3.7.6"
  }
 },
 "nbformat": 4,
 "nbformat_minor": 4
}
